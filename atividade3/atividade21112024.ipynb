{
  "nbformat": 4,
  "nbformat_minor": 0,
  "metadata": {
    "colab": {
      "provenance": [],
      "authorship_tag": "ABX9TyNkeIjqDVbaLDrODGQjCsMr",
      "include_colab_link": true
    },
    "kernelspec": {
      "name": "python3",
      "display_name": "Python 3"
    },
    "language_info": {
      "name": "python"
    }
  },
  "cells": [
    {
      "cell_type": "markdown",
      "metadata": {
        "id": "view-in-github",
        "colab_type": "text"
      },
      "source": [
        "<a href=\"https://colab.research.google.com/github/SarahCalazans/ENG_20242/blob/main/atividade3/atividade21112024.ipynb\" target=\"_parent\"><img src=\"https://colab.research.google.com/assets/colab-badge.svg\" alt=\"Open In Colab\"/></a>"
      ]
    },
    {
      "cell_type": "code",
      "execution_count": 1,
      "metadata": {
        "colab": {
          "base_uri": "https://localhost:8080/"
        },
        "id": "-cWM-JvdOZLe",
        "outputId": "d26029f9-496b-4887-ab4a-ef84a5002e71"
      },
      "outputs": [
        {
          "output_type": "stream",
          "name": "stdout",
          "text": [
            "[1, 4, 9, 16]\n"
          ]
        }
      ],
      "source": [
        "#1 Dada uma lista de números inteiros, use uma função lambda para retornar uma lista com o quadrado de cada número.\n",
        "\n",
        "lista = [1, 2, 3, 4]\n",
        "quadrado = list(map(lambda x: x**2, lista))\n",
        "print(quadrado)\n",
        "\n"
      ]
    },
    {
      "cell_type": "code",
      "source": [
        "#2 Dada uma lista de temperaturas em Celsius, use uma função lambda para convertê-las em Fahrenheit.\n",
        "\n",
        "lista = [1, 2, 3, 4]\n",
        "fahrenheit = list(map(lambda x: (x * 9/5) + 32, lista))\n",
        "print(f'{fahrenheit}°f')"
      ],
      "metadata": {
        "colab": {
          "base_uri": "https://localhost:8080/"
        },
        "id": "4eJH9-kKQNYR",
        "outputId": "8bc69346-f6c9-4f77-afcd-de9fd5755ed4"
      },
      "execution_count": 7,
      "outputs": [
        {
          "output_type": "stream",
          "name": "stdout",
          "text": [
            "[33.8, 35.6, 37.4, 39.2]°f\n"
          ]
        }
      ]
    },
    {
      "cell_type": "code",
      "source": [
        "#3 Dada uma lista de palavras, use uma função lambda para retornar uma lista com o comprimento de cada palavra.\n",
        "\n",
        "lista = ['matheus', 'sarah', 'celular', 'vestido']\n",
        "comprimento = list(map(lambda x: len(x), lista))\n",
        "print(comprimento)"
      ],
      "metadata": {
        "colab": {
          "base_uri": "https://localhost:8080/"
        },
        "id": "QNISJCe_Q57l",
        "outputId": "b2d98e9f-8c74-46fe-bfcf-ff942fa258a8"
      },
      "execution_count": 6,
      "outputs": [
        {
          "output_type": "stream",
          "name": "stdout",
          "text": [
            "[7, 5, 7, 7]\n"
          ]
        }
      ]
    },
    {
      "cell_type": "code",
      "source": [
        "#4 Use uma função lambda para dobrar os valores de uma lista de inteiros.\n",
        "\n",
        "lista = [1, 2, 3, 4]\n",
        "dobro = list(map(lambda x: x*2, lista))\n",
        "print(dobro)"
      ],
      "metadata": {
        "colab": {
          "base_uri": "https://localhost:8080/"
        },
        "id": "khjoSUvWRzai",
        "outputId": "d695ca35-b3b0-445f-ad2b-f41491d88b05"
      },
      "execution_count": 8,
      "outputs": [
        {
          "output_type": "stream",
          "name": "stdout",
          "text": [
            "[2, 4, 6, 8]\n"
          ]
        }
      ]
    },
    {
      "cell_type": "code",
      "source": [
        "#5 Dada uma lista de nomes, use uma função lambda para adicionar o prefixo \"Sr./Sra.\" antes de cada nome.\n",
        "\n",
        "lista = ['matheus', 'marlon', 'geraldo', 'silas']\n",
        "prefixo = list(map(lambda x: 'Sr. ' + x, lista))\n",
        "print(prefixo)"
      ],
      "metadata": {
        "colab": {
          "base_uri": "https://localhost:8080/"
        },
        "id": "DJsPvS5zR-7O",
        "outputId": "0b07f7a8-3888-4aea-a4c2-665fd56bd147"
      },
      "execution_count": 51,
      "outputs": [
        {
          "output_type": "stream",
          "name": "stdout",
          "text": [
            "['Sr. matheus', 'Sr. marlon', 'Sr. geraldo', 'Sr. silas']\n"
          ]
        }
      ]
    },
    {
      "cell_type": "code",
      "source": [
        "#6 Dada uma lista de números, use uma função lambda para retornar apenas os números pares.\n",
        "\n",
        "lista = [1, 2, 3, 4]\n",
        "pares = list(filter(lambda x: x % 2 == 0, lista))\n",
        "print(pares)"
      ],
      "metadata": {
        "colab": {
          "base_uri": "https://localhost:8080/"
        },
        "id": "DYX2dXZvSDSu",
        "outputId": "94d9a1f7-a585-4914-d74b-f2fd79b2cc9a"
      },
      "execution_count": 10,
      "outputs": [
        {
          "output_type": "stream",
          "name": "stdout",
          "text": [
            "[2, 4]\n"
          ]
        }
      ]
    },
    {
      "cell_type": "code",
      "source": [
        "#7 Dada uma lista de palavras, use uma função lambda para retornar apenas as palavras com menos de 5 caracteres.\n",
        "\n",
        "lista = ['matheus', 'sara', 'celular', 'vestido']\n",
        "menos_de_5 = list(filter(lambda x: len(x) < 5, lista))\n",
        "print(menos_de_5)"
      ],
      "metadata": {
        "colab": {
          "base_uri": "https://localhost:8080/"
        },
        "id": "Bl3MF0pJSF8_",
        "outputId": "44808c30-a1e5-4033-9922-087c43af928f"
      },
      "execution_count": 12,
      "outputs": [
        {
          "output_type": "stream",
          "name": "stdout",
          "text": [
            "['sara']\n"
          ]
        }
      ]
    },
    {
      "cell_type": "code",
      "source": [
        "#8 Dada uma lista de idades, use uma função lambda para retornar apenas as idades maiores que 18.\n",
        "\n",
        "lista = [1, 2, 3, 24]\n",
        "maiores_de_18 = list(filter(lambda x: x > 18, lista))\n",
        "print(maiores_de_18)"
      ],
      "metadata": {
        "colab": {
          "base_uri": "https://localhost:8080/"
        },
        "id": "b_SWFYqcSOeX",
        "outputId": "b152ee2f-a078-40f1-a55f-5e46a195c00b"
      },
      "execution_count": 14,
      "outputs": [
        {
          "output_type": "stream",
          "name": "stdout",
          "text": [
            "[24]\n"
          ]
        }
      ]
    },
    {
      "cell_type": "code",
      "source": [
        "#9 Dada uma lista de strings, use uma função lambda para retornar as strings que começam com a letra \"a\".\n",
        "\n",
        "lista = ['matheus', 'sara', 'apartamento', 'vestido']\n",
        "letra_A = list(filter(lambda x: x[0] == 'a', lista))\n",
        "print(letra_A)"
      ],
      "metadata": {
        "colab": {
          "base_uri": "https://localhost:8080/"
        },
        "id": "bNF7K_RHST7_",
        "outputId": "825af03f-7b00-44bf-ba38-ffcb86d6f2cd"
      },
      "execution_count": 16,
      "outputs": [
        {
          "output_type": "stream",
          "name": "stdout",
          "text": [
            "['apartamento']\n"
          ]
        }
      ]
    },
    {
      "cell_type": "code",
      "source": [
        "#10 Dada uma lista de números inteiros, use uma função lambda para retornar apenas os números positivos.\n",
        "\n",
        "lista = [1, 2, 3, 24, -1]\n",
        "positivos = list(filter(lambda x: x > 0, lista))\n",
        "print(positivos)"
      ],
      "metadata": {
        "colab": {
          "base_uri": "https://localhost:8080/"
        },
        "id": "DdiK9nFtShv-",
        "outputId": "d2e5a3e5-e7b9-4a91-d626-74eec553a887"
      },
      "execution_count": 29,
      "outputs": [
        {
          "output_type": "stream",
          "name": "stdout",
          "text": [
            "[1, 2, 3, 24]\n"
          ]
        }
      ]
    },
    {
      "cell_type": "code",
      "source": [
        "#11 Use uma função lambda para calcular a soma de uma lista de números.\n",
        "from functools import reduce\n",
        "lista = [1, 2, 3, 24]\n",
        "soma = reduce(lambda x, y: x + y, lista)\n",
        "print(soma)"
      ],
      "metadata": {
        "colab": {
          "base_uri": "https://localhost:8080/"
        },
        "id": "KTLy_ISxTCan",
        "outputId": "23a1174c-c185-4b6e-b9cb-d332cfedfebb"
      },
      "execution_count": 48,
      "outputs": [
        {
          "output_type": "stream",
          "name": "stdout",
          "text": [
            "30\n"
          ]
        }
      ]
    },
    {
      "cell_type": "code",
      "source": [
        "#12 Use uma função lambda para multiplicar todos os elementos de uma lista.\n",
        "\n",
        "from functools import reduce\n",
        "lista = [1, 2, 3, 24]\n",
        "multiplicacao = reduce(lambda x, y: x * y, lista)\n",
        "print(multiplicacao)"
      ],
      "metadata": {
        "colab": {
          "base_uri": "https://localhost:8080/"
        },
        "id": "wwGKwwtiTF0E",
        "outputId": "481933af-28cb-4d4c-ea66-7ccf9451f6a3"
      },
      "execution_count": 49,
      "outputs": [
        {
          "output_type": "stream",
          "name": "stdout",
          "text": [
            "144\n"
          ]
        }
      ]
    },
    {
      "cell_type": "code",
      "source": [
        "#13 Use uma função lambda para encontrar o maior número em uma lista.\n",
        "from functools import reduce\n",
        "lista = [1, 2, 3, 24]\n",
        "maior = reduce(lambda x, y: x if x > y else y, lista)\n",
        "print(maior)"
      ],
      "metadata": {
        "colab": {
          "base_uri": "https://localhost:8080/"
        },
        "id": "NiDritOBTJ97",
        "outputId": "3ac1b161-6cbe-43f6-9c2f-552366c77ebe"
      },
      "execution_count": 68,
      "outputs": [
        {
          "output_type": "stream",
          "name": "stdout",
          "text": [
            "24\n"
          ]
        }
      ]
    },
    {
      "cell_type": "code",
      "source": [
        "#14 Use uma função lambda para concatenar uma lista de palavras em uma única string separada por espaços.\n",
        "from functools import reduce\n",
        "lista = ['matheus', 'sara', 'apartamento', 'vestido']\n",
        "concatenar = reduce(lambda x, y: x + ' ' + y, lista)\n",
        "print(concatenar)"
      ],
      "metadata": {
        "colab": {
          "base_uri": "https://localhost:8080/"
        },
        "id": "xxgAcTPETNS1",
        "outputId": "0b72dac5-d96c-44e1-fd5b-ee6bdd82819f"
      },
      "execution_count": 69,
      "outputs": [
        {
          "output_type": "stream",
          "name": "stdout",
          "text": [
            "matheus sara apartamento vestido\n"
          ]
        }
      ]
    },
    {
      "cell_type": "code",
      "source": [
        "#15 Use uma função lambda para somar os dígitos de uma lista de inteiros, onde cada número é tratado individualmente.\n",
        "from functools import reduce\n",
        "lista = [1, 2, 3, 24]\n",
        "soma = reduce(lambda x, y: int(x) + int(y), lista)\n",
        "print(soma)"
      ],
      "metadata": {
        "colab": {
          "base_uri": "https://localhost:8080/"
        },
        "id": "6IdbPWjHTOYD",
        "outputId": "4e007436-90d7-4125-9d89-81642bfffe02"
      },
      "execution_count": 101,
      "outputs": [
        {
          "output_type": "stream",
          "name": "stdout",
          "text": [
            "30\n"
          ]
        }
      ]
    },
    {
      "cell_type": "code",
      "source": [
        "#16 Use uma função lambda para dobrar os números de uma lista e retornar apenas os números que são maiores que 20\n",
        "\n",
        "lista = [1, 2, 28, 24]\n",
        "dobro = list(map(lambda x: x*2, lista))\n",
        "maior_que_20 = list(filter(lambda x: x > 20, dobro))\n",
        "print(maior_que_20)"
      ],
      "metadata": {
        "colab": {
          "base_uri": "https://localhost:8080/"
        },
        "id": "jN4HwK67byYj",
        "outputId": "153c3702-4265-4619-c8d3-288fd9e61ce1"
      },
      "execution_count": 75,
      "outputs": [
        {
          "output_type": "stream",
          "name": "stdout",
          "text": [
            "[56, 48]\n"
          ]
        }
      ]
    },
    {
      "cell_type": "code",
      "source": [
        "#17 Dada uma lista de palavras, use uma função lambda para encontrar todas as palavras que contêm a letra \"e\" e conte quantas são.\n",
        "\n",
        "lista = [\"sarah\", \"matheus\", \"julian\", \"enrico\"]\n",
        "e = list(filter(lambda x: \"e\" in x, lista))\n",
        "print(f' são {len(e)}, {e}')"
      ],
      "metadata": {
        "colab": {
          "base_uri": "https://localhost:8080/"
        },
        "id": "DAqLU2wSclza",
        "outputId": "76067f0e-b59f-4150-80cb-9efdc0e7ae83"
      },
      "execution_count": 79,
      "outputs": [
        {
          "output_type": "stream",
          "name": "stdout",
          "text": [
            " são 2, ['matheus', 'enrico']\n"
          ]
        }
      ]
    },
    {
      "cell_type": "code",
      "source": [
        "#18 Converta uma lista de temperaturas de Fahrenheit para Celsius usando uma função lambda e, em seguida, retorne apenas as temperaturas abaixo de 20°C.\n",
        "\n",
        "lista = [1, 2, 98, 24]\n",
        "fahrenheit = list(map(lambda x: (x * 9/5) - 32, lista))\n",
        "celsius = list(filter(lambda x: x < 20, fahrenheit))\n",
        "print(celsius)\n"
      ],
      "metadata": {
        "colab": {
          "base_uri": "https://localhost:8080/"
        },
        "id": "Q2fzOfpydpoP",
        "outputId": "a5cc8543-4ce2-45d8-ed58-83206a599ecd"
      },
      "execution_count": 98,
      "outputs": [
        {
          "output_type": "stream",
          "name": "stdout",
          "text": [
            "[-30.2, -28.4, 11.200000000000003]\n"
          ]
        }
      ]
    },
    {
      "cell_type": "code",
      "source": [
        "#19 Use uma função lambda para selecionar apenas os números pares de uma lista e, em seguida, somar esses números.\n",
        "\n",
        "lista = [1, 2, 3, 24]\n",
        "pares = list(filter(lambda x: x % 2 == 0, lista))\n",
        "soma = reduce(lambda x, y: x + y, pares)\n",
        "print(soma)"
      ],
      "metadata": {
        "colab": {
          "base_uri": "https://localhost:8080/"
        },
        "id": "7sInq6yxeEF8",
        "outputId": "071a538b-692e-4ee9-c576-d5c22710ea08"
      },
      "execution_count": 82,
      "outputs": [
        {
          "output_type": "stream",
          "name": "stdout",
          "text": [
            "26\n"
          ]
        }
      ]
    },
    {
      "cell_type": "code",
      "source": [
        "#20 Use uma função lambda para substituir números negativos de uma lista por 0 e manter os positivos.\n",
        "\n",
        "lista = [1, 2, -3, 24]\n",
        "substituir = list(map(lambda x: 0 if x < 0 else x, lista))\n",
        "print(substituir)"
      ],
      "metadata": {
        "colab": {
          "base_uri": "https://localhost:8080/"
        },
        "id": "KweCRyeqehPv",
        "outputId": "9649501d-6113-42fd-b4d0-9aff10a88de0"
      },
      "execution_count": 84,
      "outputs": [
        {
          "output_type": "stream",
          "name": "stdout",
          "text": [
            "[1, 2, 0, 24]\n"
          ]
        }
      ]
    },
    {
      "cell_type": "code",
      "source": [
        "#21 Use uma função lambda para retornar a lista de cubos de cada elemento em uma lista de números.\n",
        "\n",
        "lista = [1, 2, 3, 24]\n",
        "cubos = list(map(lambda x: x**3, lista))\n",
        "print(cubos)"
      ],
      "metadata": {
        "colab": {
          "base_uri": "https://localhost:8080/"
        },
        "id": "AL7C8-Sgem_T",
        "outputId": "b99799c3-bed7-40ba-851b-5a80ea0d78a7"
      },
      "execution_count": 85,
      "outputs": [
        {
          "output_type": "stream",
          "name": "stdout",
          "text": [
            "[1, 8, 27, 13824]\n"
          ]
        }
      ]
    },
    {
      "cell_type": "code",
      "source": [
        "#22 Use uma função lambda para verificar se um número dado é primo (retornando True ou False).\n",
        "\n",
        "Numero = int(input(\"Digite um número: \"))\n",
        "primo = lambda x: all(x % i != 0 for i in range(2, x))\n",
        "print(primo(Numero))"
      ],
      "metadata": {
        "colab": {
          "base_uri": "https://localhost:8080/"
        },
        "id": "PBcbZgFMetOc",
        "outputId": "c821b5a8-7267-4a49-c04d-8d551a6886ac"
      },
      "execution_count": 87,
      "outputs": [
        {
          "output_type": "stream",
          "name": "stdout",
          "text": [
            "Digite um número: 8\n",
            "False\n"
          ]
        }
      ]
    },
    {
      "cell_type": "code",
      "source": [
        "#23 Use uma função lambda para dividir cada elemento de uma lista por 5 e retornar a nova lista.\n",
        "\n",
        "lista = [1, 2, 3, 25]\n",
        "divisao = list(map(lambda x: x/5, lista))\n",
        "print(divisao)"
      ],
      "metadata": {
        "colab": {
          "base_uri": "https://localhost:8080/"
        },
        "id": "zfPojC3JfAHJ",
        "outputId": "adfd54f2-22fb-4ce4-e29b-b72b14c9428c"
      },
      "execution_count": 89,
      "outputs": [
        {
          "output_type": "stream",
          "name": "stdout",
          "text": [
            "[0.2, 0.4, 0.6, 5.0]\n"
          ]
        }
      ]
    },
    {
      "cell_type": "code",
      "source": [
        "#24 Use uma função lambda para remover todas as vogais de uma string dada.\n",
        "\n",
        "string = input(\"Digite uma palavra: \")\n",
        "vogais = list(filter(lambda x: x not in 'aeiou', string))\n",
        "print(vogais)"
      ],
      "metadata": {
        "colab": {
          "base_uri": "https://localhost:8080/"
        },
        "id": "ma7IcmX-fOcg",
        "outputId": "caadeee2-2f1e-4796-ceb3-6d39e2df7bcb"
      },
      "execution_count": 91,
      "outputs": [
        {
          "output_type": "stream",
          "name": "stdout",
          "text": [
            "Digite uma palavra: amor\n",
            "['m', 'r']\n"
          ]
        }
      ]
    },
    {
      "cell_type": "code",
      "source": [
        "#25 Use uma função lambda para converter todas as palavras em uma lista para letras maiúsculas.\n",
        "\n",
        "lista = [\"sarah\", \"matheus\", \"julian\", \"enrico\"]\n",
        "maiuscula = list(map(lambda x: x.upper(), lista))\n",
        "print(maiuscula)\n"
      ],
      "metadata": {
        "colab": {
          "base_uri": "https://localhost:8080/"
        },
        "id": "ZXOm8z4OfmHm",
        "outputId": "a7e045e8-6e18-4bf8-de65-451a72259860"
      },
      "execution_count": 92,
      "outputs": [
        {
          "output_type": "stream",
          "name": "stdout",
          "text": [
            "['SARAH', 'MATHEUS', 'JULIAN', 'ENRICO']\n"
          ]
        }
      ]
    },
    {
      "cell_type": "code",
      "source": [
        "#26 Use uma função lambda para retornar apenas os números negativos de uma lista de inteiros.\n",
        "\n",
        "lista = [1, 2, -3, 24]\n",
        "negativos = list(filter(lambda x: x < 0, lista))\n",
        "print(negativos)"
      ],
      "metadata": {
        "colab": {
          "base_uri": "https://localhost:8080/"
        },
        "id": "xQHoHovvf0u8",
        "outputId": "22bff130-7f15-4e06-b046-1e1953bb8017"
      },
      "execution_count": 93,
      "outputs": [
        {
          "output_type": "stream",
          "name": "stdout",
          "text": [
            "[-3]\n"
          ]
        }
      ]
    },
    {
      "cell_type": "code",
      "source": [
        "#27 Use uma função lambda para converter todos os números de uma lista para seus valores absolutos.\n",
        "\n",
        "lista = [1, 2, -3, 24]\n",
        "absoluto = list(map(lambda x: abs(x), lista))\n",
        "print(absoluto)"
      ],
      "metadata": {
        "colab": {
          "base_uri": "https://localhost:8080/"
        },
        "id": "B7ph2izdf5Rk",
        "outputId": "4495d309-bf6d-49fa-b05c-e3048e2928bb"
      },
      "execution_count": 94,
      "outputs": [
        {
          "output_type": "stream",
          "name": "stdout",
          "text": [
            "[1, 2, 3, 24]\n"
          ]
        }
      ]
    },
    {
      "cell_type": "code",
      "source": [
        "#28 Use uma função lambda para retornar uma lista com o resto da divisão de cada elemento por 3.\n",
        "\n",
        "lista = [1, 2, 3, 24]\n",
        "resto = list(map(lambda x: x % 3, lista))\n",
        "print(resto)"
      ],
      "metadata": {
        "colab": {
          "base_uri": "https://localhost:8080/"
        },
        "id": "tSYkXCg2f8qL",
        "outputId": "0d0a6d54-5164-4012-b511-97420519cf81"
      },
      "execution_count": 95,
      "outputs": [
        {
          "output_type": "stream",
          "name": "stdout",
          "text": [
            "[1, 2, 0, 0]\n"
          ]
        }
      ]
    },
    {
      "cell_type": "code",
      "source": [
        "#29 Dada uma lista de números, use uma função lambda para multiplicar cada elemento pelo seu índice.\n",
        "\n",
        "lista = [1, 2, 3, 24]\n",
        "multiplicacao = list(map(lambda x, y: x * y, lista, range(len(lista))))\n",
        "print(multiplicacao)"
      ],
      "metadata": {
        "colab": {
          "base_uri": "https://localhost:8080/"
        },
        "id": "jjtpzoBlhD8a",
        "outputId": "b7f1cb9a-3c06-4a98-eb6b-a6a7b67be3d1"
      },
      "execution_count": 102,
      "outputs": [
        {
          "output_type": "stream",
          "name": "stdout",
          "text": [
            "[0, 2, 6, 72]\n"
          ]
        }
      ]
    },
    {
      "cell_type": "code",
      "source": [
        "#30 Use uma função lambda para verificar se uma palavra dada é um palíndromo (retornando True ou False).\n",
        "\n",
        "palavra = input(\"Digite uma palavra: \")\n",
        "palindromo = lambda x: x == x[::-1]\n",
        "print(palindromo(palavra))"
      ],
      "metadata": {
        "colab": {
          "base_uri": "https://localhost:8080/"
        },
        "id": "odDqVqJxhG3n",
        "outputId": "0ad6147a-d720-4bd8-a289-fb6a80ea7a82"
      },
      "execution_count": 103,
      "outputs": [
        {
          "output_type": "stream",
          "name": "stdout",
          "text": [
            "Digite uma palavra: matheus\n",
            "False\n"
          ]
        }
      ]
    }
  ]
}