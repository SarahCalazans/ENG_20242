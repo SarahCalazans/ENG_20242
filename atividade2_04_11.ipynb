{
  "nbformat": 4,
  "nbformat_minor": 0,
  "metadata": {
    "colab": {
      "provenance": [],
      "authorship_tag": "ABX9TyPW9SxeQ1f+zzkRoVY1D0R5",
      "include_colab_link": true
    },
    "kernelspec": {
      "name": "python3",
      "display_name": "Python 3"
    },
    "language_info": {
      "name": "python"
    }
  },
  "cells": [
    {
      "cell_type": "markdown",
      "metadata": {
        "id": "view-in-github",
        "colab_type": "text"
      },
      "source": [
        "<a href=\"https://colab.research.google.com/github/SarahCalazans/ENG_20242/blob/main/atividade2_04_11.ipynb\" target=\"_parent\"><img src=\"https://colab.research.google.com/assets/colab-badge.svg\" alt=\"Open In Colab\"/></a>"
      ]
    },
    {
      "cell_type": "code",
      "execution_count": null,
      "metadata": {
        "colab": {
          "base_uri": "https://localhost:8080/"
        },
        "id": "BL0l3Lj-qvFo",
        "outputId": "8d0255a3-450e-4118-cacc-49f9afddd6e5"
      },
      "outputs": [
        {
          "output_type": "stream",
          "name": "stdout",
          "text": [
            "A soma dos elementos da lista é 25\n"
          ]
        }
      ],
      "source": [
        "#1 - Escreva uma função que receba uma lista de números como entrada e retorne a soma de todos os elementos da lista.\n",
        "\n",
        "def imprimesoma(lista):\n",
        "    print(f\"A soma dos elementos da lista é {sum(lista)}\")\n",
        "\n",
        "lista = [1,2,3,4,7,8]\n",
        "imprimesoma(lista)"
      ]
    },
    {
      "cell_type": "code",
      "source": [
        "#1Execução da função\n",
        "\n",
        "lista = [1,2,3,4,7,8]\n",
        "imprimesoma(lista)"
      ],
      "metadata": {
        "colab": {
          "base_uri": "https://localhost:8080/"
        },
        "id": "TTAPFMcovvGD",
        "outputId": "ccc03150-b24b-4a21-d67b-872c6acc58bb"
      },
      "execution_count": null,
      "outputs": [
        {
          "output_type": "stream",
          "name": "stdout",
          "text": [
            "A soma dos elementos da lista é 25\n"
          ]
        }
      ]
    },
    {
      "cell_type": "code",
      "source": [
        "#2 - Crie uma função que receba uma lista como entrada e retorne a lista invertida, ou seja, a ordem dos elementos deve ser invertida.\n",
        "\n",
        "def imprimeinvertida(lista):\n",
        "  lista.sort(reverse=True)\n",
        "  print(f\"A Lista invertida é {lista}\")"
      ],
      "metadata": {
        "id": "DSJ7A4y5teLI"
      },
      "execution_count": null,
      "outputs": []
    },
    {
      "cell_type": "code",
      "source": [
        "#2Execução da função\n",
        "\n",
        "lista = [1,2,3,4,7,8]\n",
        "imprimeinvertida(lista)"
      ],
      "metadata": {
        "colab": {
          "base_uri": "https://localhost:8080/"
        },
        "id": "9WDW85qbv2OC",
        "outputId": "10b376c9-885b-4976-94b9-41740c6f6187"
      },
      "execution_count": null,
      "outputs": [
        {
          "output_type": "stream",
          "name": "stdout",
          "text": [
            "A Lista invertida é [8, 7, 4, 3, 2, 1]\n"
          ]
        }
      ]
    },
    {
      "cell_type": "code",
      "source": [
        "#3 - Escreva uma função que receba uma lista de números como entrada e retorne a média dos elementos da lista.\n",
        "\n",
        "def imprimemedia(lista):\n",
        "  print(f\"A media da Lista é {(sum(lista))/(len(lista))}\")\n"
      ],
      "metadata": {
        "id": "LsX8V69qw7q8"
      },
      "execution_count": null,
      "outputs": []
    },
    {
      "cell_type": "code",
      "source": [
        "#3Execução da função\n",
        "\n",
        "lista = [1,2,3,4,7,1]\n",
        "imprimemedia(lista)"
      ],
      "metadata": {
        "colab": {
          "base_uri": "https://localhost:8080/"
        },
        "id": "L3nWYKPkxdY0",
        "outputId": "c5435519-9dd7-49dd-84e2-ce7a1ed1b33d"
      },
      "execution_count": null,
      "outputs": [
        {
          "output_type": "stream",
          "name": "stdout",
          "text": [
            "A media da Lista é 3.0\n"
          ]
        }
      ]
    },
    {
      "cell_type": "code",
      "source": [
        "#4 - Crie uma função que receba uma lista de strings como entrada e retorne a lista contendo o tamanho de cada string.\n",
        "\n",
        "def imprimepalavra(lista):\n",
        "  print([len(palavra) for palavra in lista])\n"
      ],
      "metadata": {
        "id": "tfMpzkMOx9e8"
      },
      "execution_count": null,
      "outputs": []
    },
    {
      "cell_type": "code",
      "source": [
        "#4Execução da função\n",
        "\n",
        "lista = [\"banana\", \"matheus\", \"sarah\"]\n",
        "imprimepalavra(lista)"
      ],
      "metadata": {
        "colab": {
          "base_uri": "https://localhost:8080/"
        },
        "id": "6PpYuiPeyVBL",
        "outputId": "6f606958-9df8-44a6-8dbf-30148f6e4184"
      },
      "execution_count": null,
      "outputs": [
        {
          "output_type": "stream",
          "name": "stdout",
          "text": [
            "[6, 7, 5]\n"
          ]
        }
      ]
    },
    {
      "cell_type": "code",
      "source": [
        "#5 - Escreva uma função que receba duas listas como entrada e retorne uma nova lista contendo apenas os elementos que são comuns a ambas as listas.\n",
        "\n",
        "def  imprimecomuns(conjunto1, conjunto2):\n",
        "  intersecao = conjunto1.intersection(conjunto2)\n",
        "  listainter = list(intersecao)\n",
        "  print(f\" Os elementos comuns das duas listas são {listainter}\")"
      ],
      "metadata": {
        "id": "xSIxr4c90lY7"
      },
      "execution_count": null,
      "outputs": []
    },
    {
      "cell_type": "code",
      "source": [
        "#5Execução da função\n",
        "\n",
        "lista1 = [\"banana\", \"matheus\", \"sarah\"]\n",
        "lista2 = [\"banana\", \"matheus\", \"Lara\"]\n",
        "conjunto1 = set(lista1)\n",
        "conjunto2 = set(lista2)\n",
        "imprimecomuns(conjunto1,conjunto2)"
      ],
      "metadata": {
        "colab": {
          "base_uri": "https://localhost:8080/"
        },
        "id": "834yTbsT14T4",
        "outputId": "eb6d60e6-98f0-4671-a089-53c008d330c4"
      },
      "execution_count": null,
      "outputs": [
        {
          "output_type": "stream",
          "name": "stdout",
          "text": [
            " Os elementos comuns das duas listas são ['matheus', 'banana']\n"
          ]
        }
      ]
    },
    {
      "cell_type": "code",
      "source": [
        "#6 - Crie uma função que receba uma lista como entrada e retorne uma nova lista contendo apenas os elementos únicos (sem repetição) da lista original.\n",
        "\n",
        "def imprimelista(sem_duplicatas):\n",
        "    listauni = list(sem_duplicatas)\n",
        "    print(f\" a lista com elementos unicos é {listauni}\")"
      ],
      "metadata": {
        "id": "fqGFEgwM41p5"
      },
      "execution_count": null,
      "outputs": []
    },
    {
      "cell_type": "code",
      "source": [
        "#6execução da função\n",
        "\n",
        "lista_com_duplicatas = [1, 2, 2, 3, 4, 4, 5]\n",
        "sem_duplicatas = set(lista_com_duplicatas)\n",
        "imprimelista(sem_duplicatas)\n"
      ],
      "metadata": {
        "colab": {
          "base_uri": "https://localhost:8080/"
        },
        "id": "kLlr-dn25nSR",
        "outputId": "24932698-213b-41e6-84d2-203227246dee"
      },
      "execution_count": null,
      "outputs": [
        {
          "output_type": "stream",
          "name": "stdout",
          "text": [
            " a lista com elementos unicos é [1, 2, 3, 4, 5]\n"
          ]
        }
      ]
    },
    {
      "cell_type": "code",
      "source": [
        "#7 - Escreva uma função que receba uma lista de números como entrada e retorne uma lista contendo apenas os números pares da lista original.\n",
        "\n",
        "def imprimapares(lista):\n",
        "  pares = [x for x in lista if x%2 ==0]\n",
        "  print(pares)"
      ],
      "metadata": {
        "id": "HK-B3yS68hUU"
      },
      "execution_count": null,
      "outputs": []
    },
    {
      "cell_type": "code",
      "source": [
        "#7execução da função\n",
        "\n",
        "lista = [1, 2, 2, 3, 4, 4, 5]\n",
        "imprimapares(lista)"
      ],
      "metadata": {
        "colab": {
          "base_uri": "https://localhost:8080/"
        },
        "id": "BtF-EEyT9MXa",
        "outputId": "1727ffac-8563-4ef3-e46a-3b6f234a876b"
      },
      "execution_count": null,
      "outputs": [
        {
          "output_type": "stream",
          "name": "stdout",
          "text": [
            "[2, 2, 4, 4]\n"
          ]
        }
      ]
    },
    {
      "cell_type": "code",
      "source": [
        "#8 - Crie uma função que receba uma lista de números como entrada e retorne o maior elemento da lista.\n",
        "\n",
        "def imprimamaior(lista):\n",
        "  maior = max(lista)\n",
        "  print(f\" o maior valor é {maior}\")"
      ],
      "metadata": {
        "id": "1IE5l-WH9Wax"
      },
      "execution_count": null,
      "outputs": []
    },
    {
      "cell_type": "code",
      "source": [
        "#8execução da função\n",
        "\n",
        "lista = [1, 2, 2, 3, 4, 4, 5]\n",
        "imprimamaior(lista)"
      ],
      "metadata": {
        "colab": {
          "base_uri": "https://localhost:8080/"
        },
        "id": "usjyuAvA9ryr",
        "outputId": "76e0e0a3-13f2-4f2f-e588-322c813c7688"
      },
      "execution_count": null,
      "outputs": [
        {
          "output_type": "stream",
          "name": "stdout",
          "text": [
            " o maior valor é 5\n"
          ]
        }
      ]
    },
    {
      "cell_type": "code",
      "source": [
        "#9 - Escreva uma função que receba uma lista como entrada e retorne True se a lista estiver ordenada de forma crescente, e False caso contrário.\n",
        "\n",
        "def imprimeverdade(lista):\n",
        "  for i in range(len(lista)-1):\n",
        "    if lista[i] > lista[i+1]:\n",
        "      return False\n",
        "  return True"
      ],
      "metadata": {
        "id": "nt7YiVVd9yTL"
      },
      "execution_count": 21,
      "outputs": []
    },
    {
      "cell_type": "code",
      "source": [
        "#9execução da função\n",
        "\n",
        "lista = [7, 2, 2, 3, 4, 4, 5]\n",
        "imprimeverdade(lista)"
      ],
      "metadata": {
        "id": "AQOq9AmV965q",
        "colab": {
          "base_uri": "https://localhost:8080/"
        },
        "outputId": "b25455eb-53f6-4b5a-f253-23a2288dd59b"
      },
      "execution_count": 24,
      "outputs": [
        {
          "output_type": "execute_result",
          "data": {
            "text/plain": [
              "False"
            ]
          },
          "metadata": {},
          "execution_count": 24
        }
      ]
    },
    {
      "cell_type": "code",
      "source": [
        "#10 - Crie uma função que receba duas listas como entrada e retorne True se uma lista for subconjunto da outra, e False caso contrário.\n",
        "\n",
        "def imprimeconjunto(listasub, listabub):\n",
        "    print(conjuntob.issubset(conjuntoa))"
      ],
      "metadata": {
        "id": "6QpIsFbq9683"
      },
      "execution_count": 32,
      "outputs": []
    },
    {
      "cell_type": "code",
      "source": [
        "#10execução da função\n",
        "\n",
        "listasub = [7, 2, 2, 3, 4, 4, 5]\n",
        "listabub = [3, 4, 4]\n",
        "conjuntoa = set(listasub)\n",
        "conjuntob = set(listabub)\n",
        "imprimeconjunto(listasub, listabub)"
      ],
      "metadata": {
        "id": "ya3SghXc97Bq",
        "colab": {
          "base_uri": "https://localhost:8080/"
        },
        "outputId": "c1172778-6c80-47b0-8378-a2184d68f8fa"
      },
      "execution_count": 33,
      "outputs": [
        {
          "output_type": "stream",
          "name": "stdout",
          "text": [
            "True\n"
          ]
        }
      ]
    }
  ]
}