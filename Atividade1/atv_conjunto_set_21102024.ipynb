{
  "nbformat": 4,
  "nbformat_minor": 0,
  "metadata": {
    "colab": {
      "provenance": [],
      "authorship_tag": "ABX9TyMwuZTGtS15Gtw+dOfrGJDh",
      "include_colab_link": true
    },
    "kernelspec": {
      "name": "python3",
      "display_name": "Python 3"
    },
    "language_info": {
      "name": "python"
    }
  },
  "cells": [
    {
      "cell_type": "markdown",
      "metadata": {
        "id": "view-in-github",
        "colab_type": "text"
      },
      "source": [
        "<a href=\"https://colab.research.google.com/github/SarahCalazans/ENG_20242/blob/main/atividade1/atv_conjunto_set_21102024.ipynb\" target=\"_parent\"><img src=\"https://colab.research.google.com/assets/colab-badge.svg\" alt=\"Open In Colab\"/></a>"
      ]
    },
    {
      "cell_type": "code",
      "source": [
        "#1 - Crie um conjunto chamado `frutas` que contenha os seguintes elementos: \"maçã\", \"banana\", \"laranja\" e \"uva\". Depois de criar o conjunto, exiba-o no console para confirmar os elementos adicionados.\n",
        "\n",
        "conjunto_de_frutas = {\"maçã\",\"banana\",\"laranja\",\"uva\"}\n",
        "print(conjunto_de_frutas)"
      ],
      "metadata": {
        "colab": {
          "base_uri": "https://localhost:8080/"
        },
        "id": "VZ9qR0XHo2jo",
        "outputId": "9652897b-5d1a-4be8-81a9-2528e7e410c4"
      },
      "execution_count": 4,
      "outputs": [
        {
          "output_type": "stream",
          "name": "stdout",
          "text": [
            "{'uva', 'banana', 'laranja', 'maçã'}\n"
          ]
        }
      ]
    },
    {
      "cell_type": "code",
      "source": [
        "#2 - Utilizando o conjunto `frutas` criado anteriormente, adicione a fruta \"morango\" ao conjunto. Lembre-se que conjuntos não permitem duplicatas, então adicione um elemento que já exista para verificar o comportamento.\n",
        "\n",
        "conjunto_de_frutas = {\"maçã\",\"banana\",\"laranja\",\"uva\"}\n",
        "conjunto_de_frutas.add(\"morango\")\n",
        "conjunto_de_frutas.add(\"maçã\")\n",
        "print(conjunto_de_frutas)\n"
      ],
      "metadata": {
        "colab": {
          "base_uri": "https://localhost:8080/"
        },
        "id": "VQWo0Bgzr_kE",
        "outputId": "ce5e6c14-b4ec-4142-8068-744e428209b4"
      },
      "execution_count": 6,
      "outputs": [
        {
          "output_type": "stream",
          "name": "stdout",
          "text": [
            "{'maçã', 'banana', 'morango', 'uva', 'laranja'}\n"
          ]
        }
      ]
    },
    {
      "cell_type": "code",
      "source": [
        "#3 - Remova a fruta \"banana\" do conjunto `frutas`. Se \"banana\" não estiver presente, o código pode gerar um erro. Verifique se a fruta existe antes de removê-la ou trate o erro adequadamente.\n",
        "\n",
        "conjunto_de_frutas = {\"maçã\",\"banana\",\"laranja\",\"uva\"}\n",
        "conjunto_de_frutas.remove(\"banana\")\n",
        "print(conjunto_de_frutas)"
      ],
      "metadata": {
        "colab": {
          "base_uri": "https://localhost:8080/"
        },
        "id": "6Wqt7Sdusjxs",
        "outputId": "196be567-ecaf-49c4-e569-0a80b987f842"
      },
      "execution_count": 7,
      "outputs": [
        {
          "output_type": "stream",
          "name": "stdout",
          "text": [
            "{'uva', 'laranja', 'maçã'}\n"
          ]
        }
      ]
    },
    {
      "cell_type": "code",
      "source": [
        "#4 - Verifique se a fruta \"laranja\" está presente no conjunto `frutas` usando uma estrutura condicional. Exiba uma mensagem no console indicando se \"laranja\" está ou não presente no conjunto.\n",
        "\n",
        "conjunto_de_frutas = {\"maçã\",\"banana\",\"laranja\",\"uva\"}\n",
        "if \"laranja\" in conjunto_de_frutas:\n",
        "    print(\"laranja está no conjunto\")\n",
        "else:\n",
        "    print(\"laranja não está no conjunto\")"
      ],
      "metadata": {
        "colab": {
          "base_uri": "https://localhost:8080/"
        },
        "id": "LISa1jWds5ql",
        "outputId": "1eea3b70-0a97-4b16-ba64-652c0c3985b4"
      },
      "execution_count": 8,
      "outputs": [
        {
          "output_type": "stream",
          "name": "stdout",
          "text": [
            "laranja está no conjunto\n"
          ]
        }
      ]
    },
    {
      "cell_type": "code",
      "source": [
        "#5 - Crie um segundo conjunto chamado `citrus`, contendo \"laranja\", \"limão\" e \"tangerina\". Faça a união dos conjuntos `frutas` e `citrus`, criando um novo conjunto que contém todos os elementos dos dois conjuntos. Exiba o resultado dessa união.\n",
        "\n",
        "conjunto_de_frutas = {\"maçã\",\"banana\",\"laranja\",\"uva\"}\n",
        "conjunto_de_citrus = {\"laranja\", \"limão\", \"tangerina\"}\n",
        "uniao = conjunto_de_frutas.union(conjunto_de_citrus)\n",
        "print(uniao)"
      ],
      "metadata": {
        "colab": {
          "base_uri": "https://localhost:8080/"
        },
        "id": "WN934y_HtVFD",
        "outputId": "6f6a03dc-d8b3-4d93-f057-23645a7f74f3"
      },
      "execution_count": 9,
      "outputs": [
        {
          "output_type": "stream",
          "name": "stdout",
          "text": [
            "{'uva', 'laranja', 'maçã', 'limão', 'banana', 'tangerina'}\n"
          ]
        }
      ]
    },
    {
      "cell_type": "code",
      "source": [
        "#6 - Usando os conjuntos `frutas` e `citrus`, encontre a interseção entre eles, ou seja, os elementos que estão presentes em ambos os conjuntos. Exiba os elementos comuns.\n",
        "\n",
        "conjunto_de_frutas = {\"maçã\",\"banana\",\"laranja\",\"uva\"}\n",
        "conjunto_de_citrus = {\"laranja\", \"limão\", \"tangerina\"}\n",
        "interseccao = conjunto_de_frutas.intersection(conjunto_de_citrus)\n",
        "print(interseccao)"
      ],
      "metadata": {
        "colab": {
          "base_uri": "https://localhost:8080/"
        },
        "id": "SAwoUw4it8ZH",
        "outputId": "ef5e4813-ab0e-4710-fece-3c5a886c41b8"
      },
      "execution_count": 10,
      "outputs": [
        {
          "output_type": "stream",
          "name": "stdout",
          "text": [
            "{'laranja'}\n"
          ]
        }
      ]
    },
    {
      "cell_type": "code",
      "source": [
        "#7 - Encontre a diferença entre os conjuntos `frutas` e `citrus`, ou seja, os elementos que estão em `frutas` mas não estão em `citrus`. Exiba o resultado dessa diferença.\n",
        "\n",
        "conjunto_de_frutas = {\"maçã\",\"banana\",\"laranja\",\"uva\"}\n",
        "conjunto_de_citrus = {\"laranja\", \"limão\", \"tangerina\"}\n",
        "diferenca = conjunto_de_frutas.difference(conjunto_de_citrus)\n",
        "print(diferenca)"
      ],
      "metadata": {
        "colab": {
          "base_uri": "https://localhost:8080/"
        },
        "id": "kElNuQKuuOKd",
        "outputId": "0f53d0f7-f787-47a4-ffe0-dd6554bca3cb"
      },
      "execution_count": 11,
      "outputs": [
        {
          "output_type": "stream",
          "name": "stdout",
          "text": [
            "{'uva', 'banana', 'maçã'}\n"
          ]
        }
      ]
    },
    {
      "cell_type": "code",
      "source": [
        "#8 - Esvazie completamente o conjunto `citrus` usando um método específico que remove todos os elementos de um conjunto. Verifique se o conjunto foi realmente esvaziado ao exibi-lo no console após a operação.\n",
        "\n",
        "\n",
        "conjunto_de_citrus = {\"laranja\", \"limão\", \"tangerina\"}\n",
        "conjunto_de_citrus.clear()\n",
        "print(conjunto_de_citrus)\n"
      ],
      "metadata": {
        "colab": {
          "base_uri": "https://localhost:8080/"
        },
        "id": "qjdteWUBuf-m",
        "outputId": "7598fe7b-e74c-4ecc-decb-b95c3f82ff3d"
      },
      "execution_count": 12,
      "outputs": [
        {
          "output_type": "stream",
          "name": "stdout",
          "text": [
            "set()\n"
          ]
        }
      ]
    },
    {
      "cell_type": "code",
      "source": [
        "#9 - Converta o conjunto `frutas` em um conjunto imutável, ou seja, um conjunto que não pode ser alterado após sua criação. Crie esse conjunto imutável e exiba-o no console.\n",
        "\n",
        "conjunto_de_frutas = {\"maçã\",\"banana\",\"laranja\",\"uva\"}\n",
        "conjunto2 = frozenset(conjunto_de_frutas)\n",
        "print(conjunto2)"
      ],
      "metadata": {
        "colab": {
          "base_uri": "https://localhost:8080/"
        },
        "id": "oev03-DMu0-y",
        "outputId": "f9b34828-3ba2-47c3-a232-37814b8af6a9"
      },
      "execution_count": 13,
      "outputs": [
        {
          "output_type": "stream",
          "name": "stdout",
          "text": [
            "frozenset({'uva', 'banana', 'laranja', 'maçã'})\n"
          ]
        }
      ]
    },
    {
      "cell_type": "code",
      "source": [
        "#10 - Conte quantos elementos únicos existem no conjunto `frutas` e exiba o número total de elementos no console.\n",
        "\n",
        "conjunto_de_frutas = {\"maçã\",\"banana\",\"laranja\",\"uva\"}\n",
        "print(len(conjunto_de_frutas))"
      ],
      "metadata": {
        "colab": {
          "base_uri": "https://localhost:8080/"
        },
        "id": "90x2PLBbvpy2",
        "outputId": "7fd2a31c-e870-4727-9001-71ddd0b0dfe8"
      },
      "execution_count": 14,
      "outputs": [
        {
          "output_type": "stream",
          "name": "stdout",
          "text": [
            "4\n"
          ]
        }
      ]
    }
  ]
}
