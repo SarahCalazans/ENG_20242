{
  "nbformat": 4,
  "nbformat_minor": 0,
  "metadata": {
    "colab": {
      "provenance": [],
      "authorship_tag": "ABX9TyOGQawBCsC9h1zHAyj4HtAK",
      "include_colab_link": true
    },
    "kernelspec": {
      "name": "python3",
      "display_name": "Python 3"
    },
    "language_info": {
      "name": "python"
    }
  },
  "cells": [
    {
      "cell_type": "markdown",
      "metadata": {
        "id": "view-in-github",
        "colab_type": "text"
      },
      "source": [
        "<a href=\"https://colab.research.google.com/github/SarahCalazans/ENG_20242/blob/main/atividade2/Atividade_1811.ipynb\" target=\"_parent\"><img src=\"https://colab.research.google.com/assets/colab-badge.svg\" alt=\"Open In Colab\"/></a>"
      ]
    },
    {
      "cell_type": "code",
      "execution_count": null,
      "metadata": {
        "id": "zbXIiCRVtzc9"
      },
      "outputs": [],
      "source": [
        "#1. Crie uma função que receba uma lista de números e retorne uma lista contendo apenas os números ímpares.\n",
        "\n",
        "def imprimeimpar(lista):\n",
        "  impar = [x for x in lista if x % 2 != 0 ]\n",
        "  print(impar)\n",
        "\n",
        "\n",
        "\n"
      ]
    },
    {
      "cell_type": "code",
      "source": [
        "#1 execução\n",
        "\n",
        "lista = [3, 5, 8, 9]\n",
        "imprimeimpar(lista)"
      ],
      "metadata": {
        "colab": {
          "base_uri": "https://localhost:8080/"
        },
        "id": "wtDHnzIBwFH2",
        "outputId": "371d665c-64ea-4e7e-95e2-c9b835f13ca1"
      },
      "execution_count": null,
      "outputs": [
        {
          "output_type": "stream",
          "name": "stdout",
          "text": [
            "[3, 5, 9]\n"
          ]
        }
      ]
    },
    {
      "cell_type": "code",
      "source": [
        "#2. Escreva uma função que receba uma lista e retorne uma nova lista com o dobro de cada elemento.\n",
        "\n",
        "def imprimedobro(lista):\n",
        "  dobro = [ x*2 for x in lista]\n",
        "  print(dobro)"
      ],
      "metadata": {
        "id": "mTBeMSwSw1Wu"
      },
      "execution_count": null,
      "outputs": []
    },
    {
      "cell_type": "code",
      "source": [
        "#2 execução\n",
        "lista = [3, 5, 8, 9]\n",
        "imprimedobro(lista)"
      ],
      "metadata": {
        "colab": {
          "base_uri": "https://localhost:8080/"
        },
        "id": "g-0zP6a0y-6v",
        "outputId": "55f9dfc6-3696-4944-e6f3-918342e79bf6"
      },
      "execution_count": null,
      "outputs": [
        {
          "output_type": "stream",
          "name": "stdout",
          "text": [
            "[6, 10, 16, 18]\n"
          ]
        }
      ]
    },
    {
      "cell_type": "code",
      "source": [
        "#3. Faça uma função que receba uma lista e retorne uma lista sem duplicatas.\n",
        "def imprimesemdup(lista):\n",
        "  sem_duplicatas = list(set(lista))\n",
        "  return sem_duplicatas"
      ],
      "metadata": {
        "id": "epEN4v-CuHfV"
      },
      "execution_count": null,
      "outputs": []
    },
    {
      "cell_type": "code",
      "source": [
        "#3 execução\n",
        "\n",
        "lista = [4, 4, 4, 4, 5, 7, 8]\n",
        "imprimesemdup(lista)"
      ],
      "metadata": {
        "colab": {
          "base_uri": "https://localhost:8080/"
        },
        "id": "WuJ87c3y3hnx",
        "outputId": "7aed5cc4-3fd5-432c-92e0-ee4c76c47fac"
      },
      "execution_count": null,
      "outputs": [
        {
          "output_type": "execute_result",
          "data": {
            "text/plain": [
              "[8, 4, 5, 7]"
            ]
          },
          "metadata": {},
          "execution_count": 28
        }
      ]
    },
    {
      "cell_type": "code",
      "source": [
        "#4. Crie uma função que receba uma lista e um valor divisor e retorne uma lista dos elementos que são divisíveis pelo divisor.\n",
        "\n",
        "def imprimediv(lista,divisor):\n",
        "  divisiveis = [ x for x in lista if x%divisor ==0]\n",
        "  return divisiveis"
      ],
      "metadata": {
        "id": "tPs-O0rM4HEx"
      },
      "execution_count": null,
      "outputs": []
    },
    {
      "cell_type": "code",
      "source": [
        "#4 execução\n",
        "\n",
        "lista = [ 1, 2, 3, 4, 5, 6]\n",
        "divisor = 2\n",
        "print(imprimediv(lista,divisor))\n"
      ],
      "metadata": {
        "colab": {
          "base_uri": "https://localhost:8080/"
        },
        "id": "_DufjKda4uvI",
        "outputId": "21358b76-f423-4c02-9d2b-2be599238339"
      },
      "execution_count": null,
      "outputs": [
        {
          "output_type": "stream",
          "name": "stdout",
          "text": [
            "[2, 4, 6]\n"
          ]
        }
      ]
    },
    {
      "cell_type": "code",
      "source": [
        "#5. Escreva uma função que receba duas listas e retorne um conjunto com os elementos que aparecem em ambas.\n",
        "\n",
        "def imprimelist(lista1, lista2):\n",
        "  conj1 =set(lista1)\n",
        "  conj2 =set(lista2)\n",
        "  uniao = conj1.union(conj2)\n",
        "  print(uniao)"
      ],
      "metadata": {
        "id": "tHK56UA87pq0"
      },
      "execution_count": null,
      "outputs": []
    },
    {
      "cell_type": "code",
      "source": [
        "#5 execução\n",
        "\n",
        "lista1 = [ 1, 2, 3, 4, 5, 6]\n",
        "lista2 = [ 2, 9, 0]\n",
        "(imprimelist(lista1, lista2))"
      ],
      "metadata": {
        "colab": {
          "base_uri": "https://localhost:8080/"
        },
        "id": "e-pZqGYQ9gId",
        "outputId": "26b329e9-a921-464e-8bfd-3dbcfc824c78"
      },
      "execution_count": null,
      "outputs": [
        {
          "output_type": "stream",
          "name": "stdout",
          "text": [
            "{0, 1, 2, 3, 4, 5, 6, 9}\n"
          ]
        }
      ]
    },
    {
      "cell_type": "code",
      "source": [
        "#6. Crie uma função que receba uma lista e retorne uma nova lista com os elementos em ordem inversa.\n",
        "\n",
        "def imprimeinv(lista):\n",
        " return sorted(lista,reverse=True)"
      ],
      "metadata": {
        "id": "oABCs1IV-Rj6"
      },
      "execution_count": null,
      "outputs": []
    },
    {
      "cell_type": "code",
      "source": [
        "#6 execução\n",
        "\n",
        "lista = [1, 2, 3, 4, 5, 6]\n",
        "ordenado = list(imprimeinv(lista))\n",
        "print(ordenado)\n"
      ],
      "metadata": {
        "colab": {
          "base_uri": "https://localhost:8080/"
        },
        "id": "mK0gnIpy-3-w",
        "outputId": "8721cdf2-62b9-437c-a8d8-722ade31fce0"
      },
      "execution_count": null,
      "outputs": [
        {
          "output_type": "stream",
          "name": "stdout",
          "text": [
            "[6, 5, 4, 3, 2, 1]\n"
          ]
        }
      ]
    },
    {
      "cell_type": "code",
      "source": [
        "#7. Escreva uma função que receba uma lista de números e retorne uma lista contendo o quadrado de cada número.\n",
        "\n",
        "def imprimequad(lista):\n",
        "  quadrados = [x**2 for x in lista]\n",
        "  return quadrados"
      ],
      "metadata": {
        "id": "a1gcIn0S0qYV"
      },
      "execution_count": 7,
      "outputs": []
    },
    {
      "cell_type": "code",
      "source": [
        "lista = [4, 9, 5, 7, 8]\n",
        "imprimequad(lista)"
      ],
      "metadata": {
        "colab": {
          "base_uri": "https://localhost:8080/"
        },
        "id": "beqBVR3F2c4E",
        "outputId": "80579520-41a2-4a95-a495-f0cdd84fbbe0"
      },
      "execution_count": 8,
      "outputs": [
        {
          "output_type": "execute_result",
          "data": {
            "text/plain": [
              "[16, 81, 25, 49, 64]"
            ]
          },
          "metadata": {},
          "execution_count": 8
        }
      ]
    },
    {
      "cell_type": "code",
      "source": [
        "#8. Crie uma função que receba uma lista e um valor, e retorne uma lista com os elementos maiores que esse valor.\n",
        "\n",
        "def imprimemaior(lista,valor):\n",
        "  maior = [x for x in lista if x > valor]\n",
        "  return maior\n",
        ""
      ],
      "metadata": {
        "id": "mCtJ-LZc26t-"
      },
      "execution_count": 9,
      "outputs": []
    },
    {
      "cell_type": "code",
      "source": [
        "lista = [4, 9, 5, 7, 8]\n",
        "valor= 5\n",
        "imprimemaior(lista,valor)"
      ],
      "metadata": {
        "colab": {
          "base_uri": "https://localhost:8080/"
        },
        "id": "w_g86lZv3BC0",
        "outputId": "37311605-56cd-4a3c-cd1a-7c21e482cb7a"
      },
      "execution_count": 10,
      "outputs": [
        {
          "output_type": "execute_result",
          "data": {
            "text/plain": [
              "[9, 7, 8]"
            ]
          },
          "metadata": {},
          "execution_count": 10
        }
      ]
    },
    {
      "cell_type": "code",
      "source": [
        "#9. Escreva uma função que receba duas listas e retorne uma lista dos elementos que estão em apenas uma das listas.\n",
        "\n",
        "def imprimedif(lista1,lista2):\n",
        "  conj1 =set(lista1)\n",
        "  conj2 =set(lista2)\n",
        "  diferenca= conj1.difference(conj2)\n",
        "  return diferenca"
      ],
      "metadata": {
        "id": "0g4s81x_3OkF"
      },
      "execution_count": 19,
      "outputs": []
    },
    {
      "cell_type": "code",
      "source": [
        "lista1 = [ 1, 2, 3, 4, 5, 6]\n",
        "lista2 = [ 2, 9, 0]\n",
        "imprimedif(lista1,lista2)"
      ],
      "metadata": {
        "colab": {
          "base_uri": "https://localhost:8080/"
        },
        "id": "P-gEIlMX3UGL",
        "outputId": "4bcb9c5c-9569-4c84-d4ca-e77d53833470"
      },
      "execution_count": 20,
      "outputs": [
        {
          "output_type": "execute_result",
          "data": {
            "text/plain": [
              "{1, 3, 4, 5, 6}"
            ]
          },
          "metadata": {},
          "execution_count": 20
        }
      ]
    },
    {
      "cell_type": "code",
      "source": [
        "#10. Faça uma função que receba uma lista e retorne um conjunto dos elementos únicos.\n",
        "\n",
        "def imprimeunic(lista):\n",
        "  unicos = [x for x in lista if lista.count(x) <= 1]\n",
        "  return unicos"
      ],
      "metadata": {
        "id": "S4WiOMrd4-Ko"
      },
      "execution_count": 47,
      "outputs": []
    },
    {
      "cell_type": "code",
      "source": [
        "lista = [ 1, 1, 2, 3, 4, 6, 5, 6]\n",
        "imprimeunic(lista)"
      ],
      "metadata": {
        "colab": {
          "base_uri": "https://localhost:8080/"
        },
        "id": "SB_uvM705Fo_",
        "outputId": "794a43e5-f560-4c7d-b043-ce3797bda2bb"
      },
      "execution_count": 48,
      "outputs": [
        {
          "output_type": "execute_result",
          "data": {
            "text/plain": [
              "[2, 3, 4, 5]"
            ]
          },
          "metadata": {},
          "execution_count": 48
        }
      ]
    },
    {
      "cell_type": "code",
      "source": [
        "#11. Crie uma função que receba duas listas e retorne uma lista dos elementos únicos que estão em ambas.\n",
        "\n",
        "def imprimeunico(lista1,lista2):\n",
        "  unicos = [x for x in lista1 or lista2 if lista1.count(x) == 1 ]\n",
        "  return unicos"
      ],
      "metadata": {
        "id": "S5vwCMkf5TKZ"
      },
      "execution_count": 82,
      "outputs": []
    },
    {
      "cell_type": "code",
      "source": [
        "lista1 = [ 1, 1, 2, 3, 4, 6, 5, 6, 9, 0]\n",
        "lista2 = [ 2, 9, 0, 1, 1]\n",
        "imprimeunico(lista1,lista2)"
      ],
      "metadata": {
        "colab": {
          "base_uri": "https://localhost:8080/"
        },
        "id": "s9c33oF75Ump",
        "outputId": "b376db8f-a42f-4fb7-87c7-8658d0e3071a"
      },
      "execution_count": 85,
      "outputs": [
        {
          "output_type": "execute_result",
          "data": {
            "text/plain": [
              "[2, 3, 4, 5, 9, 0]"
            ]
          },
          "metadata": {},
          "execution_count": 85
        }
      ]
    },
    {
      "cell_type": "code",
      "source": [
        "#12. Escreva uma função que receba uma lista e retorne uma lista contendo os elementos que aparecem mais de uma vez.\n",
        "\n",
        "def imprimedup(lista):\n",
        "  duplicados = [x for x in lista if lista.count(x) > 1]\n",
        "  return set(duplicados)"
      ],
      "metadata": {
        "id": "N-jKZHV55996"
      },
      "execution_count": 86,
      "outputs": []
    },
    {
      "cell_type": "code",
      "source": [
        "lista1 = [ 1, 1, 2, 3, 4, 6, 5, 6]\n",
        "imprimedup(lista1)"
      ],
      "metadata": {
        "colab": {
          "base_uri": "https://localhost:8080/"
        },
        "id": "zv_sPPL26EPA",
        "outputId": "38e85c26-5fe4-49e9-c07e-de79a29eabb7"
      },
      "execution_count": 87,
      "outputs": [
        {
          "output_type": "execute_result",
          "data": {
            "text/plain": [
              "{1, 6}"
            ]
          },
          "metadata": {},
          "execution_count": 87
        }
      ]
    },
    {
      "cell_type": "code",
      "source": [
        "#13. Faça uma função que receba uma lista de números e retorne uma lista dos números pares.\n",
        "\n",
        "def imprime(lista):\n",
        "  par = [x for x in lista if x % 2 == 0]\n",
        "  return par"
      ],
      "metadata": {
        "id": "DrO5xdXz9eOd"
      },
      "execution_count": 63,
      "outputs": []
    },
    {
      "cell_type": "code",
      "source": [
        "lista = [ 1, 1, 2, 3, 4, 6, 5, 6]\n",
        "imprime(lista)"
      ],
      "metadata": {
        "colab": {
          "base_uri": "https://localhost:8080/"
        },
        "id": "6YOGMq6N9kvl",
        "outputId": "381f2f79-11a7-47a9-e501-8abea42808d8"
      },
      "execution_count": 65,
      "outputs": [
        {
          "output_type": "execute_result",
          "data": {
            "text/plain": [
              "[2, 4, 6, 6]"
            ]
          },
          "metadata": {},
          "execution_count": 65
        }
      ]
    },
    {
      "cell_type": "code",
      "source": [
        "#14. Escreva uma função que receba uma lista de números e um valor, e retorne uma lista com os índices dos elementos maiores que o valor.\n",
        "\n",
        "def imprime(lista,valor):\n",
        "  indices = []\n",
        "  for i, elemento in enumerate(lista):\n",
        "    if elemento > valor:\n",
        "      indices.append(i)\n",
        "  return indices"
      ],
      "metadata": {
        "id": "uRdPbnFW-HvN"
      },
      "execution_count": 89,
      "outputs": []
    },
    {
      "cell_type": "code",
      "source": [
        "lista = [ 1, 1, 2, 3, 4, 6, 5, 7]\n",
        "valor = 2\n",
        "imprime(lista,valor)"
      ],
      "metadata": {
        "colab": {
          "base_uri": "https://localhost:8080/"
        },
        "id": "VwxwZkUX-NG1",
        "outputId": "8be92175-770b-4838-8197-d8adb877907f"
      },
      "execution_count": 92,
      "outputs": [
        {
          "output_type": "execute_result",
          "data": {
            "text/plain": [
              "[3, 4, 5, 6, 7]"
            ]
          },
          "metadata": {},
          "execution_count": 92
        }
      ]
    },
    {
      "cell_type": "code",
      "source": [
        "#15. Crie uma função que receba uma lista de strings e retorne uma lista com o tamanho de cada string.\n",
        "\n",
        "def imprime(lista):\n",
        "  tamanho = [len(x) for x in lista]\n",
        "  return tamanho"
      ],
      "metadata": {
        "id": "Nbn1dkrWBK9w"
      },
      "execution_count": 93,
      "outputs": []
    },
    {
      "cell_type": "code",
      "source": [
        "lista = ['sarah', 'matheus', 'lhama', 'bahia']\n",
        "imprime(lista)"
      ],
      "metadata": {
        "colab": {
          "base_uri": "https://localhost:8080/"
        },
        "id": "y-BX9TI7CIrk",
        "outputId": "ced51fbf-a7ff-45ea-a330-27a16b776d43"
      },
      "execution_count": 94,
      "outputs": [
        {
          "output_type": "execute_result",
          "data": {
            "text/plain": [
              "[5, 7, 5, 5]"
            ]
          },
          "metadata": {},
          "execution_count": 94
        }
      ]
    },
    {
      "cell_type": "code",
      "source": [
        "#16. Escreva uma função que receba uma lista de números e retorne uma lista contendo cada número elevado ao cubo.\n",
        "\n",
        "def imprime(lista):\n",
        "  cubo = [x**3 for x in lista]\n",
        "  return cubo"
      ],
      "metadata": {
        "id": "g0yDQ1icCWOH"
      },
      "execution_count": 95,
      "outputs": []
    },
    {
      "cell_type": "code",
      "source": [
        "lista = [ 1, 2, 3, 4, 6, 5, 7]\n",
        "imprime(lista)"
      ],
      "metadata": {
        "colab": {
          "base_uri": "https://localhost:8080/"
        },
        "id": "1_lHeWE1CZdE",
        "outputId": "f112a88c-09b2-4af7-c176-11a94867fc50"
      },
      "execution_count": 97,
      "outputs": [
        {
          "output_type": "execute_result",
          "data": {
            "text/plain": [
              "[1, 8, 27, 64, 216, 125, 343]"
            ]
          },
          "metadata": {},
          "execution_count": 97
        }
      ]
    },
    {
      "cell_type": "code",
      "source": [
        "#17. Crie uma função que receba uma lista e retorne uma lista de todos os elementos únicos.\n",
        "\n",
        "def imprime(lista):\n",
        "  unicos = [x for x in lista if lista.count(x) == 1]\n",
        "  return unicos"
      ],
      "metadata": {
        "id": "beV7048qCtoL"
      },
      "execution_count": 98,
      "outputs": []
    },
    {
      "cell_type": "code",
      "source": [
        "lista = [ 1, 1, 2, 3, 4, 6, 5, 7]\n",
        "imprime(lista)"
      ],
      "metadata": {
        "colab": {
          "base_uri": "https://localhost:8080/"
        },
        "id": "Nhgi1Ti-CyIC",
        "outputId": "952e52b2-b46b-4536-db8c-bfa143108088"
      },
      "execution_count": 99,
      "outputs": [
        {
          "output_type": "execute_result",
          "data": {
            "text/plain": [
              "[2, 3, 4, 6, 5, 7]"
            ]
          },
          "metadata": {},
          "execution_count": 99
        }
      ]
    },
    {
      "cell_type": "code",
      "source": [
        "#18. Escreva uma função que receba uma lista de strings e retorne uma lista contendo as strings que começam com uma letra maiúscula.\n",
        "\n",
        "def imprime(lista):\n",
        "  maiuscula = [x for x in lista if x[0].isupper()]\n",
        "  return maiuscula"
      ],
      "metadata": {
        "id": "QM5N0b4nDZ_E"
      },
      "execution_count": 100,
      "outputs": []
    },
    {
      "cell_type": "code",
      "source": [
        "lista = ['Sarah', 'Matheus', 'lhama', 'Bahia']\n",
        "imprime(lista)"
      ],
      "metadata": {
        "colab": {
          "base_uri": "https://localhost:8080/"
        },
        "id": "ZW35M90UDdmk",
        "outputId": "5ad5de9d-5a84-4d22-ec27-568be9fa50b1"
      },
      "execution_count": 101,
      "outputs": [
        {
          "output_type": "execute_result",
          "data": {
            "text/plain": [
              "['Sarah', 'Matheus', 'Bahia']"
            ]
          },
          "metadata": {},
          "execution_count": 101
        }
      ]
    },
    {
      "cell_type": "code",
      "source": [
        "#19. Faça uma função que receba uma lista de números e retorne uma lista contendo apenas os múltiplos de 3.\n",
        "\n",
        "def imprimel(lista):\n",
        "  mult3 = [x for x in lista if x % 3 == 0]\n",
        "  return mult3"
      ],
      "metadata": {
        "id": "HPHEHmhDDht0"
      },
      "execution_count": 106,
      "outputs": []
    },
    {
      "cell_type": "code",
      "source": [
        "lista = [ 1, 2, 3, 4, 6, 5, 7]\n",
        "imprimel(lista)"
      ],
      "metadata": {
        "colab": {
          "base_uri": "https://localhost:8080/"
        },
        "id": "Z8Ml4H5lDkZW",
        "outputId": "d61cbaba-2e72-46f9-c5b8-7087b63599c2"
      },
      "execution_count": 107,
      "outputs": [
        {
          "output_type": "execute_result",
          "data": {
            "text/plain": [
              "[3, 6]"
            ]
          },
          "metadata": {},
          "execution_count": 107
        }
      ]
    },
    {
      "cell_type": "code",
      "source": [
        "#20. Escreva uma função que receba duas listas e retorne uma lista com a interseção ordenada de forma crescente entre elas.\n",
        "\n",
        "def imprime(lista1,lista2):\n",
        "  conj1 =set(lista1)\n",
        "  conj2 =set(lista2)\n",
        "  inter = conj1.intersection(conj2)\n",
        "  return sorted(inter)"
      ],
      "metadata": {
        "id": "RwJ068EPDl5_"
      },
      "execution_count": 108,
      "outputs": []
    },
    {
      "cell_type": "code",
      "source": [
        "lista1 = [ 1, 1, 2, 3, 4, 6, 5, 7]\n",
        "lista2 = [ 2, 9, 0, 1, 1]\n",
        "imprime(lista1,lista2)"
      ],
      "metadata": {
        "colab": {
          "base_uri": "https://localhost:8080/"
        },
        "id": "Juujf_VuDoce",
        "outputId": "0f23efdd-cc61-4f4d-bf57-f3ada7fa2102"
      },
      "execution_count": 109,
      "outputs": [
        {
          "output_type": "execute_result",
          "data": {
            "text/plain": [
              "[1, 2]"
            ]
          },
          "metadata": {},
          "execution_count": 109
        }
      ]
    }
  ]
}